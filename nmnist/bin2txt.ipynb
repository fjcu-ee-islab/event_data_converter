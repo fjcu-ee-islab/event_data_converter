{
 "cells": [
  {
   "cell_type": "code",
   "execution_count": 1,
   "metadata": {},
   "outputs": [],
   "source": [
    "#!pip install progress progressbar2 alive-progress tqdm\n",
    "#!pip install notebook ipywidgets"
   ]
  },
  {
   "cell_type": "code",
   "execution_count": 2,
   "metadata": {},
   "outputs": [],
   "source": [
    "import struct\n",
    "import numpy as np\n",
    "import sys\n",
    "import os\n",
    "np.set_printoptions(threshold=sys.maxsize)"
   ]
  },
  {
   "cell_type": "code",
   "execution_count": 3,
   "metadata": {},
   "outputs": [],
   "source": [
    "# from /torchneuromorphic/utils.py\n",
    "def load_ATIS_bin(filename):\n",
    "    \"\"\"Reads in the TD events contained in the N-MNIST/N-CALTECH101 dataset file specified by 'filename'\"\"\"\n",
    "    f = open(filename, 'rb')\n",
    "    raw_data = np.fromfile(f, dtype=np.uint8)\n",
    "    f.close()\n",
    "    raw_data = np.uint32(raw_data)\n",
    "\n",
    "    all_y = raw_data[1::5]\n",
    "    all_x = raw_data[0::5]\n",
    "    all_p = (raw_data[2::5] & 128) >> 7 #bit 7\n",
    "    all_ts = ((raw_data[2::5] & 127) << 16) | (raw_data[3::5] << 8) | (raw_data[4::5])\n",
    "\n",
    "    #Process time stamp overflow events\n",
    "    time_increment = 2 ** 13\n",
    "    overflow_indices = np.where(all_y == 240)[0]\n",
    "    for overflow_index in overflow_indices:\n",
    "        all_ts[overflow_index:] += time_increment\n",
    "\n",
    "    #Everything else is a proper td spike\n",
    "    td_indices = np.where(all_y != 240)[0]\n",
    "    return all_ts, all_x, all_y, all_p\n",
    "\n",
    "# from /torchneuromorphic/nmnist/create_hdf5.py\n",
    "def nmnist_load_events_from_bin(file_path, max_duration=None):\n",
    "    timestamps, xaddr, yaddr, pol = load_ATIS_bin(file_path)\n",
    "    return np.column_stack([\n",
    "        np.array(timestamps, dtype=np.uint32),\n",
    "        np.array(pol, dtype=np.uint8),\n",
    "        np.array(xaddr, dtype=np.uint16),\n",
    "        np.array(yaddr, dtype=np.uint16)])"
   ]
  },
  {
   "cell_type": "raw",
   "metadata": {},
   "source": [
    "# single file\n",
    "from pathlib import Path\n",
    "p = Path(\"data/x/\")\n",
    "FileList=list(p.glob(\"**/*.bin\"))\n",
    "\n",
    "\n",
    "for File in FileList:\n",
    "    print(type(File))\n",
    "    File=str(File)\n",
    "    File_str = File[:-4]+str('.txt') \n",
    "    print(File_str)\n",
    "    print(File)\n",
    "    nmnist_load_events_from_bin(File)\n",
    "    np.savetxt(File_str,nmnist_load_events_from_bin(File),fmt='%i')"
   ]
  },
  {
   "cell_type": "code",
   "execution_count": 4,
   "metadata": {},
   "outputs": [
    {
     "data": {
      "application/vnd.jupyter.widget-view+json": {
       "model_id": "65b53fc5f4d34bdb827c57007427d5a7",
       "version_major": 2,
       "version_minor": 0
      },
      "text/plain": [
       "IntProgress(value=0, description='(Init)', max=70000)"
      ]
     },
     "metadata": {},
     "output_type": "display_data"
    }
   ],
   "source": [
    "# multi files\n",
    "import time\n",
    "import os\n",
    "from pathlib import Path\n",
    "from tqdm import tqdm, trange\n",
    "from ipywidgets import IntProgress\n",
    "from IPython.display import display\n",
    "\n",
    "p = Path(\"bin/\")\n",
    "FileList=list(p.glob(\"**/*.bin\"))\n",
    "\n",
    "progress = IntProgress()\n",
    "progress.max = len(FileList)\n",
    "progress.description = '(Init)'\n",
    "display(progress)\n",
    "\n",
    "for File in FileList:\n",
    "    \n",
    "    progress.value += 1\n",
    "    \n",
    "    #print(type(File))\n",
    "    File=str(File)\n",
    "    #print(File)\n",
    "    File_str = File[:-4]+str('.txt') \n",
    "    #print(File_str)\n",
    "    nmnist_load_events_from_bin(File)\n",
    "    np.savetxt(File_str,nmnist_load_events_from_bin(File),fmt='%i')\n",
    "    \n",
    "    os.remove(File)\n",
    "    \n",
    "    progress.description = str(progress.value)+str('/')+str(progress.max)\n",
    "\n",
    "progress.description = '(Done)'\n",
    "\n",
    "#print(FileList)"
   ]
  },
  {
   "cell_type": "code",
   "execution_count": 5,
   "metadata": {},
   "outputs": [],
   "source": [
    "import shutil\n",
    "\n",
    "source = \"bin/Test\"\n",
    "source1 = \"bin/Train\"\n",
    "\n",
    "destination = \"txt/\"\n",
    "\n",
    "dest = shutil.move(source, destination)\n",
    "dest = shutil.move(source1, destination)"
   ]
  }
 ],
 "metadata": {
  "kernelspec": {
   "display_name": "Python 3",
   "language": "python",
   "name": "python3"
  },
  "language_info": {
   "codemirror_mode": {
    "name": "ipython",
    "version": 3
   },
   "file_extension": ".py",
   "mimetype": "text/x-python",
   "name": "python",
   "nbconvert_exporter": "python",
   "pygments_lexer": "ipython3",
   "version": "3.8.3"
  }
 },
 "nbformat": 4,
 "nbformat_minor": 4
}
